{
 "cells": [
  {
   "cell_type": "markdown",
   "metadata": {},
   "source": [
    "# Grokking Algorithms - Exercises\n",
    "### Chapter 1 - Introduction to Algorithms"
   ]
  },
  {
   "cell_type": "markdown",
   "metadata": {},
   "source": [
    "### 1.1\n",
    "log(128) = 7 (rounded up, max number of steps for a binary search of a list of 128 items)\n",
    "### 1.2 \n",
    "log(156) = 8 (double the size of the list, what's the max number of searches required now?)"
   ]
  }
 ],
 "metadata": {
  "language_info": {
   "name": "python"
  },
  "orig_nbformat": 4
 },
 "nbformat": 4,
 "nbformat_minor": 2
}
