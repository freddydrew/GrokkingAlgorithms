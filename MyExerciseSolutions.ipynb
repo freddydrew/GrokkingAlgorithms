{
 "cells": [
  {
   "cell_type": "markdown",
   "metadata": {},
   "source": [
    "# Grokking Algorithms - Exercises\n",
    "### Chapter 1 - Introduction to Algorithms"
   ]
  },
  {
   "cell_type": "markdown",
   "metadata": {},
   "source": [
    "### 1.1\n",
    "log(128) = 7 (rounded up, max number of steps for a binary search of a list of 128 items). **CORRECT**\n",
    "### 1.2 \n",
    "log(156) = 8 (double the size of the list, what's the max number of searches required now?). **CORRECT**\n",
    "### 1.3\n",
    "O(log(n)), because the list of names in a phone book is sorted and you can use binary search to find the name then number. **CORRECT**\n",
    "### 1.4\n",
    "O(n), because numbers are not in sorted order in a phone book so *worst case* you'd have to check every element. **CORRECT**\n",
    "### 1.5\n",
    "O(n), becasue I'd have to look at every single element in the phonebook to read it, no way around it. **CORRECT**\n",
    "### 1.6\n",
    "O(n), becasue I'd have to look at every single element in the 'A' section of the phonebook to read them, no way around it. While it's only a single section, the Big O Notation is WRT the list size, in this case I'm not seperating my list into chuncks, I'm just reading it all in. Also all constants get dropped, it's only ever a single n, nothing is related to the unique size of the dataset in question. **CORRECT**"
   ]
  },
  {
   "cell_type": "markdown",
   "metadata": {},
   "source": [
    "### Chapter 2 - Selection Sort"
   ]
  },
  {
   "cell_type": "markdown",
   "metadata": {},
   "source": [
    "### 2.1 \n",
    "I'd use a Linked List because inserting is fast with them but reading not so much, it makes sense for what the person is trying to do in the example. **CORRECT**"
   ]
  }
 ],
 "metadata": {
  "kernelspec": {
   "display_name": "Python 3",
   "language": "python",
   "name": "python3"
  },
  "language_info": {
   "codemirror_mode": {
    "name": "ipython",
    "version": 3
   },
   "file_extension": ".py",
   "mimetype": "text/x-python",
   "name": "python",
   "nbconvert_exporter": "python",
   "pygments_lexer": "ipython3",
   "version": "3.8.8"
  }
 },
 "nbformat": 4,
 "nbformat_minor": 2
}
